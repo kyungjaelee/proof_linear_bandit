{
 "cells": [
  {
   "cell_type": "code",
   "execution_count": 1,
   "metadata": {},
   "outputs": [],
   "source": [
    "import time\n",
    "import numpy as np\n",
    "from heavy_tail_observations import BothSideWeibullNoise, BothSideParetoNoise, BothSideFrechetNoise\n",
    "\n",
    "from matplotlib import pyplot as plt\n",
    "%matplotlib inline"
   ]
  },
  {
   "cell_type": "code",
   "execution_count": 5,
   "metadata": {},
   "outputs": [],
   "source": [
    "scale=1.\n",
    "mean=0.\n",
    "p=1.5\n",
    "noise_type = 'pareto'\n",
    "\n",
    "dim = 20\n",
    "weight = np.random.randn(dim)\n",
    "weight = weight/np.sqrt(weight.dot(weight))\n",
    "    \n",
    "get_mean = lambda x: x.dot(weight)\n",
    "if noise_type == 'weibull':\n",
    "    weibull_noise = BothSideWeibullNoise(alpha=p+0.1,scale=scale,mean=mean,p=p)\n",
    "    get_observation = lambda x: x.dot(weight) + weibull_noise.sample()\n",
    "elif noise_type == 'pareto':\n",
    "    pareto_noise = BothSideParetoNoise(alpha=p+0.1,scale=scale,mean=mean,p=p)\n",
    "    get_observation = lambda x: x.dot(weight) + pareto_noise.sample()\n",
    "elif noise_type == 'frechet':\n",
    "    frechet_noise = BothSideFrechetNoise(alpha=p+0.1,scale=scale,mean=mean,p=p)\n",
    "    get_observation = lambda x: x.dot(weight) + frechet_noise.sample()\n",
    "    \n",
    "K = 10\n",
    "T = 10000"
   ]
  },
  {
   "cell_type": "markdown",
   "metadata": {},
   "source": [
    "mom"
   ]
  },
  {
   "cell_type": "markdown",
   "metadata": {},
   "source": [
    "turncation"
   ]
  }
 ],
 "metadata": {
  "kernelspec": {
   "display_name": "Python 3 (ipykernel)",
   "language": "python",
   "name": "python3"
  },
  "language_info": {
   "codemirror_mode": {
    "name": "ipython",
    "version": 3
   },
   "file_extension": ".py",
   "mimetype": "text/x-python",
   "name": "python",
   "nbconvert_exporter": "python",
   "pygments_lexer": "ipython3",
   "version": "3.7.5"
  }
 },
 "nbformat": 4,
 "nbformat_minor": 4
}
