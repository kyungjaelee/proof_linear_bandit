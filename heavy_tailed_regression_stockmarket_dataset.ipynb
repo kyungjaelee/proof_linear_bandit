{
 "cells": [
  {
   "cell_type": "code",
   "execution_count": 1,
   "metadata": {},
   "outputs": [],
   "source": [
    "# Importing all necessary libraries.\n",
    "import pandas as pd\n",
    "import numpy as np\n",
    "\n",
    "from heavy_tail_observations import BothSideWeibullNoise, BothSideParetoNoise, BothSideFrechetNoise\n",
    "from heavy_tail_regressions import catoni_lin_reg, mom_lin_reg, pro, reg_lin_reg, trunc_lin_reg, trunc_reg\n",
    "\n",
    "from sklearn.model_selection import train_test_split\n",
    "\n",
    "import matplotlib.pyplot as plt"
   ]
  },
  {
   "cell_type": "code",
   "execution_count": 33,
   "metadata": {},
   "outputs": [
    {
     "data": {
      "text/html": [
       "<div>\n",
       "<style scoped>\n",
       "    .dataframe tbody tr th:only-of-type {\n",
       "        vertical-align: middle;\n",
       "    }\n",
       "\n",
       "    .dataframe tbody tr th {\n",
       "        vertical-align: top;\n",
       "    }\n",
       "\n",
       "    .dataframe thead th {\n",
       "        text-align: right;\n",
       "    }\n",
       "</style>\n",
       "<table border=\"1\" class=\"dataframe\">\n",
       "  <thead>\n",
       "    <tr style=\"text-align: right;\">\n",
       "      <th></th>\n",
       "      <th>date</th>\n",
       "      <th>open</th>\n",
       "      <th>high</th>\n",
       "      <th>low</th>\n",
       "      <th>close</th>\n",
       "      <th>volume</th>\n",
       "      <th>Name</th>\n",
       "      <th>prediction</th>\n",
       "    </tr>\n",
       "  </thead>\n",
       "  <tbody>\n",
       "    <tr>\n",
       "      <th>0</th>\n",
       "      <td>2013-02-08</td>\n",
       "      <td>28.89</td>\n",
       "      <td>29.17</td>\n",
       "      <td>28.51</td>\n",
       "      <td>28.5450</td>\n",
       "      <td>37662614</td>\n",
       "      <td>FB</td>\n",
       "      <td>130.98</td>\n",
       "    </tr>\n",
       "    <tr>\n",
       "      <th>1</th>\n",
       "      <td>2013-02-11</td>\n",
       "      <td>28.61</td>\n",
       "      <td>28.68</td>\n",
       "      <td>28.04</td>\n",
       "      <td>28.2600</td>\n",
       "      <td>36979533</td>\n",
       "      <td>FB</td>\n",
       "      <td>130.32</td>\n",
       "    </tr>\n",
       "    <tr>\n",
       "      <th>2</th>\n",
       "      <td>2013-02-12</td>\n",
       "      <td>27.67</td>\n",
       "      <td>28.16</td>\n",
       "      <td>27.10</td>\n",
       "      <td>27.3700</td>\n",
       "      <td>93417215</td>\n",
       "      <td>FB</td>\n",
       "      <td>133.23</td>\n",
       "    </tr>\n",
       "    <tr>\n",
       "      <th>3</th>\n",
       "      <td>2013-02-13</td>\n",
       "      <td>27.36</td>\n",
       "      <td>28.32</td>\n",
       "      <td>27.31</td>\n",
       "      <td>27.9075</td>\n",
       "      <td>50100805</td>\n",
       "      <td>FB</td>\n",
       "      <td>130.84</td>\n",
       "    </tr>\n",
       "    <tr>\n",
       "      <th>4</th>\n",
       "      <td>2013-02-14</td>\n",
       "      <td>28.02</td>\n",
       "      <td>28.63</td>\n",
       "      <td>28.01</td>\n",
       "      <td>28.5000</td>\n",
       "      <td>35581045</td>\n",
       "      <td>FB</td>\n",
       "      <td>130.98</td>\n",
       "    </tr>\n",
       "  </tbody>\n",
       "</table>\n",
       "</div>"
      ],
      "text/plain": [
       "         date   open   high    low    close    volume Name  prediction\n",
       "0  2013-02-08  28.89  29.17  28.51  28.5450  37662614   FB      130.98\n",
       "1  2013-02-11  28.61  28.68  28.04  28.2600  36979533   FB      130.32\n",
       "2  2013-02-12  27.67  28.16  27.10  27.3700  93417215   FB      133.23\n",
       "3  2013-02-13  27.36  28.32  27.31  27.9075  50100805   FB      130.84\n",
       "4  2013-02-14  28.02  28.63  28.01  28.5000  35581045   FB      130.98"
      ]
     },
     "execution_count": 33,
     "metadata": {},
     "output_type": "execute_result"
    }
   ],
   "source": [
    "# Using data from Apple's stock.\n",
    "# df = pd.read_csv('./sandp500/individual_stocks_5yr/individual_stocks_5yr/AAPL_data.csv')\n",
    "# df = pd.read_csv('./sandp500/individual_stocks_5yr/individual_stocks_5yr/AMZN_data.csv')\n",
    "# df = pd.read_csv('./sandp500/individual_stocks_5yr/individual_stocks_5yr/NFLX_data.csv')\n",
    "df = pd.read_csv('./sandp500/individual_stocks_5yr/individual_stocks_5yr/FB_data.csv')\n",
    "future_days = 1000\n",
    "df['prediction'] = df['close'].shift(-future_days)\n",
    "df.head()"
   ]
  },
  {
   "cell_type": "code",
   "execution_count": 34,
   "metadata": {},
   "outputs": [
    {
     "name": "stdout",
     "output_type": "stream",
     "text": [
      "(259, 2)\n"
     ]
    }
   ],
   "source": [
    "# X = df.drop(['date','Name','prediction'], 1).to_numpy()[:-future_days]\n",
    "X = df['close'].to_numpy()[:-future_days]\n",
    "X = np.concatenate([[X],[np.ones_like(X)]]).T\n",
    "print(X.shape)\n",
    "y = df['prediction'].to_numpy()[:-future_days]\n",
    "x_train,x_test,y_train,y_test = train_test_split(X,y,test_size=0.2)"
   ]
  },
  {
   "cell_type": "code",
   "execution_count": 41,
   "metadata": {},
   "outputs": [
    {
     "name": "stdout",
     "output_type": "stream",
     "text": [
      "0 Catoni optimization starts\n",
      "Catoni RMS: 7.841653\n",
      "1 MoM optimization starts\n",
      "MoM RMS: 17.556416\n",
      "2 PRo optimization starts\n",
      "PRo RMS: 7.060685\n",
      "3 Ridge optimization starts\n",
      "Ridge RMS: 7.083085\n",
      "4 Trunc Lin optimization starts\n",
      "Trunc Lin RMS: 7.083085\n",
      "5 Trunc optimization starts\n",
      "Trunc RMS: 161.736523\n"
     ]
    }
   ],
   "source": [
    "p = 1.5\n",
    "optim_names = ['Catoni', 'MoM', 'PRo', 'Ridge', 'Trunc Lin', 'Trunc']\n",
    "optim_params = [{'beta':1.},\n",
    "                {'lam':1.,'k':10},\n",
    "                {'lam':1.,'beta':100000.},\n",
    "                {'lam':1.},\n",
    "                {'lam':1.,'beta':100000.},\n",
    "                {'lam':1.}]\n",
    "optims = [catoni_lin_reg, mom_lin_reg, pro, reg_lin_reg, trunc_lin_reg, trunc_reg]\n",
    "\n",
    "for opt_idx, (optim, optim_param, optim_name)  in enumerate(zip(optims,optim_params,optim_names)):\n",
    "    print(opt_idx, optim_name, \"optimization starts\")\n",
    "    y_est, w_hat = optim(*(x_train,y_train,x_test,p),**optim_param)\n",
    "    error = np.mean(np.abs(y_est - y_test))\n",
    "    print('{} RMS: {:.06f}'.format(optim_name, error))"
   ]
  },
  {
   "cell_type": "code",
   "execution_count": null,
   "metadata": {},
   "outputs": [],
   "source": []
  }
 ],
 "metadata": {
  "kernelspec": {
   "display_name": "Python 3",
   "language": "python",
   "name": "python3"
  },
  "language_info": {
   "codemirror_mode": {
    "name": "ipython",
    "version": 3
   },
   "file_extension": ".py",
   "mimetype": "text/x-python",
   "name": "python",
   "nbconvert_exporter": "python",
   "pygments_lexer": "ipython3",
   "version": "3.9.2"
  }
 },
 "nbformat": 4,
 "nbformat_minor": 4
}
