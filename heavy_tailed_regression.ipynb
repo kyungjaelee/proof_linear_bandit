{
 "cells": [
  {
   "cell_type": "code",
   "execution_count": 1,
   "id": "bbcc33d5",
   "metadata": {},
   "outputs": [],
   "source": [
    "import time\n",
    "import numpy as np\n",
    "from heavy_tail_observations import BothSideWeibullNoise, BothSideParetoNoise, BothSideFrechetNoise\n",
    "from heavy_tail_regressions import catoni_lin_reg, mom_lin_reg, pro, reg_lin_reg, trunc_lin_reg, trunc_reg\n",
    "\n",
    "from matplotlib import pyplot as plt\n",
    "%matplotlib inline"
   ]
  },
  {
   "cell_type": "code",
   "execution_count": 2,
   "id": "3925a12d",
   "metadata": {},
   "outputs": [],
   "source": [
    "scale=1.\n",
    "mean=0.\n",
    "p=1.5\n",
    "noise_type = 'frechet'\n",
    "\n",
    "dim = 20\n",
    "weight = np.random.randn(dim+1)\n",
    "weight = weight/np.sqrt(weight.dot(weight))\n",
    "    \n",
    "if noise_type == 'weibull':\n",
    "    weibull_noise = BothSideWeibullNoise(alpha=p+0.1,scale=scale,mean=mean,p=p)\n",
    "    get_observation = lambda x: x.dot(weight) + weibull_noise.sample()\n",
    "elif noise_type == 'pareto':\n",
    "    pareto_noise = BothSideParetoNoise(alpha=p+0.1,scale=scale,mean=mean,p=p)\n",
    "    get_observation = lambda x: x.dot(weight) + pareto_noise.sample()\n",
    "elif noise_type == 'frechet':\n",
    "    frechet_noise = BothSideFrechetNoise(alpha=p+0.1,scale=scale,mean=mean,p=p)\n",
    "    get_observation = lambda x: x.dot(weight) + frechet_noise.sample()\n",
    "    \n",
    "x_list = np.zeros((10000,dim+1)) #\n",
    "x_list[:,0] = 1.\n",
    "x_list[:,1] = np.linspace(-10.,10., 10000)\n",
    "mean_list = x_list.dot(weight)\n",
    "\n",
    "n = 10000\n",
    "x_data = 5.*np.random.randn(n,dim+1)\n",
    "x_data[:,0] = 1.\n",
    "y_data = [get_observation(x) for x in x_data]"
   ]
  },
  {
   "cell_type": "code",
   "execution_count": 5,
   "id": "13aba271",
   "metadata": {},
   "outputs": [
    {
     "name": "stdout",
     "output_type": "stream",
     "text": [
      "Catoni RMS: 0.010723, Time: 37.974973\n",
      "MoM RMS: 0.611594, Time: 2.908203\n",
      "PRo RMS: 0.162101, Time: 15.898893\n",
      "Reg RMS: 0.099001, Time: 0.001808\n",
      "Trunc Lin RMS: 0.025123, Time: 2.861331\n",
      "Trunc RMS: 0.051787, Time: 8.101502\n"
     ]
    },
    {
     "data": {
      "image/png": "[encoded data removed]",
      "text/plain": [
       "<Figure size 432x288 with 1 Axes>"
      ]
     },
     "metadata": {
      "needs_background": "light"
     },
     "output_type": "display_data"
    }
   ],
   "source": [
    "optim_names = ['Catoni', 'MoM', 'PRo', 'Reg', 'Trunc Lin', 'Trunc']\n",
    "optim_params = [{'beta':1.},\n",
    "                {'lam':1.,'k':10},\n",
    "                {'lam':1.,'beta':1.},\n",
    "                {'lam':1.},\n",
    "                {'lam':1.,'beta':1.},\n",
    "                {'lam':1.}]\n",
    "optims = [catoni_lin_reg, mom_lin_reg, pro, reg_lin_reg, trunc_lin_reg, trunc_reg]\n",
    "# optim_names = ['PRo','PRo','PRo','PRo','PRo']\n",
    "# optim_params = [{'lam':1.,'beta':100},\n",
    "#                 {'lam':1.,'beta':10},\n",
    "#                 {'lam':1.,'beta':1},\n",
    "#                 {'lam':1.,'beta':.1},\n",
    "#                 {'lam':1.,'beta':.01}]\n",
    "# optims = [pro,pro,pro,pro,pro]\n",
    "\n",
    "plt.plot(x_data[:,1], y_data, '.')\n",
    "plt.plot(x_list[:,1], mean_list, '-', label='Origin')\n",
    "for optim, optim_param, optim_name  in zip(optims,optim_params,optim_names):\n",
    "    start = time.time()\n",
    "    est_mean_list, w_hat = optim(*(x_data,y_data,x_list,p),**optim_param)\n",
    "    end = time.time()\n",
    "    error = np.mean(np.abs(est_mean_list - mean_list))\n",
    "    plt.plot(x_list[:,1], est_mean_list, '-', label=optim_name)\n",
    "    print('{} RMS: {:.06f}, Time: {:.06f}'.format(optim_name, error, end-start))\n",
    "    \n",
    "# plt.xlim([-10.,10.])\n",
    "# plt.ylim([-11.,11.])\n",
    "plt.legend()\n",
    "plt.show()"
   ]
  },
  {
   "cell_type": "code",
   "execution_count": null,
   "id": "783e95cd",
   "metadata": {},
   "outputs": [],
   "source": []
  }
 ],
 "metadata": {
  "kernelspec": {
   "display_name": "Python 3 (ipykernel)",
   "language": "python",
   "name": "python3"
  },
  "language_info": {
   "codemirror_mode": {
    "name": "ipython",
    "version": 3
   },
   "file_extension": ".py",
   "mimetype": "text/x-python",
   "name": "python",
   "nbconvert_exporter": "python",
   "pygments_lexer": "ipython3",
   "version": "3.7.5"
  }
 },
 "nbformat": 4,
 "nbformat_minor": 5
}
