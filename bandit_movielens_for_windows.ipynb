{
 "cells": [
  {
   "cell_type": "code",
   "execution_count": 1,
   "metadata": {
    "scrolled": false
   },
   "outputs": [
    {
     "name": "stdout",
     "output_type": "stream",
     "text": [
      "Data saved at bandit_movielens_results/p1.50-dim51-size5000-action20-proof-seed2.npy\n"
     ]
    },
    {
     "name": "stderr",
     "output_type": "stream",
     "text": [
      "C:\\Users\\dlxhr\\Dropbox\\code\\proof_linear_bandit-main\\heavy_tail_lin_bandit.py:142: RuntimeWarning: invalid value encountered in true_divide\n",
      "  c = h*Y / thrs\n"
     ]
    },
    {
     "name": "stdout",
     "output_type": "stream",
     "text": [
      "Data saved at bandit_movielens_results/p1.50-dim51-size5000-action20-supbtc-seed2.npy\n",
      "Data saved at bandit_movielens_results/p1.50-dim51-size5000-action20-supbmm-seed2.npy\n",
      "Data saved at bandit_movielens_results/p1.50-dim51-size5000-action20-menu-seed2.npy\n",
      "Data saved at bandit_movielens_results/p1.50-dim51-size5000-action20-tofu-seed2.npy\n",
      "Data saved at bandit_movielens_results/p1.50-dim51-size5000-action20-proof-seed3.npy\n"
     ]
    },
    {
     "name": "stderr",
     "output_type": "stream",
     "text": [
      "C:\\Users\\dlxhr\\Dropbox\\code\\proof_linear_bandit-main\\heavy_tail_lin_bandit.py:142: RuntimeWarning: invalid value encountered in true_divide\n",
      "  c = h*Y / thrs\n"
     ]
    },
    {
     "name": "stdout",
     "output_type": "stream",
     "text": [
      "Data saved at bandit_movielens_results/p1.50-dim51-size5000-action20-supbtc-seed3.npy\n",
      "Data saved at bandit_movielens_results/p1.50-dim51-size5000-action20-supbmm-seed3.npy\n",
      "Data saved at bandit_movielens_results/p1.50-dim51-size5000-action20-menu-seed3.npy\n",
      "Data saved at bandit_movielens_results/p1.50-dim51-size5000-action20-tofu-seed3.npy\n",
      "Data saved at bandit_movielens_results/p1.50-dim51-size5000-action20-proof-seed4.npy\n"
     ]
    },
    {
     "name": "stderr",
     "output_type": "stream",
     "text": [
      "C:\\Users\\dlxhr\\Dropbox\\code\\proof_linear_bandit-main\\heavy_tail_lin_bandit.py:142: RuntimeWarning: invalid value encountered in true_divide\n",
      "  c = h*Y / thrs\n"
     ]
    },
    {
     "name": "stdout",
     "output_type": "stream",
     "text": [
      "Data saved at bandit_movielens_results/p1.50-dim51-size5000-action20-supbtc-seed4.npy\n",
      "Data saved at bandit_movielens_results/p1.50-dim51-size5000-action20-supbmm-seed4.npy\n",
      "Data saved at bandit_movielens_results/p1.50-dim51-size5000-action20-menu-seed4.npy\n",
      "Data saved at bandit_movielens_results/p1.50-dim51-size5000-action20-tofu-seed4.npy\n",
      "Data saved at bandit_movielens_results/p1.50-dim51-size5000-action20-proof-seed5.npy\n"
     ]
    },
    {
     "name": "stderr",
     "output_type": "stream",
     "text": [
      "C:\\Users\\dlxhr\\Dropbox\\code\\proof_linear_bandit-main\\heavy_tail_lin_bandit.py:142: RuntimeWarning: invalid value encountered in true_divide\n",
      "  c = h*Y / thrs\n"
     ]
    },
    {
     "name": "stdout",
     "output_type": "stream",
     "text": [
      "Data saved at bandit_movielens_results/p1.50-dim51-size5000-action20-supbtc-seed5.npy\n",
      "Data saved at bandit_movielens_results/p1.50-dim51-size5000-action20-supbmm-seed5.npy\n",
      "Data saved at bandit_movielens_results/p1.50-dim51-size5000-action20-menu-seed5.npy\n",
      "Data saved at bandit_movielens_results/p1.50-dim51-size5000-action20-tofu-seed5.npy\n"
     ]
    }
   ],
   "source": [
    "for i in range(2,6):\n",
    "    !python bandit_experiment_movielens.py --optim_type proof --samples 5000 --moment 1.5 --seed $i\n",
    "    !python bandit_experiment_movielens.py --optim_type supbtc --samples 5000 --moment 1.5 --seed $i\n",
    "    !python bandit_experiment_movielens.py --optim_type supbmm --samples 5000 --moment 1.5 --seed $i\n",
    "    !python bandit_experiment_movielens.py --optim_type menu --samples 5000 --moment 1.5 --seed $i\n",
    "    !python bandit_experiment_movielens.py --optim_type tofu --samples 5000 --moment 1.5 --seed $i"
   ]
  }
 ],
 "metadata": {
  "kernelspec": {
   "display_name": "Python 3",
   "language": "python",
   "name": "python3"
  },
  "language_info": {
   "codemirror_mode": {
    "name": "ipython",
    "version": 3
   },
   "file_extension": ".py",
   "mimetype": "text/x-python",
   "name": "python",
   "nbconvert_exporter": "python",
   "pygments_lexer": "ipython3",
   "version": "3.9.2"
  }
 },
 "nbformat": 4,
 "nbformat_minor": 4
}
