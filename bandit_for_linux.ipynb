{
 "cells": [
  {
   "cell_type": "code",
   "execution_count": 1,
   "metadata": {},
   "outputs": [],
   "source": [
    "# for i in range(1,6):\n",
    "#     !python bandit_experiment.py --noise pareto  --optim_type proof --samples 10000 --actions 10 --moment 1.2 --dimension 5 --seed $i &\n",
    "# !python bandit_experiment.py --noise pareto  --optim_type proof --samples 10000 --actions 10 --moment 1.2 --dimension 5 --seed 5    \n",
    "# for i in range(1,6):\n",
    "#     !python3 bandit_experiment.py --noise pareto  --optim_type supbtc --samples 10000 --actions 10 --moment 1.2 --dimension 5 --seed $i\n",
    "#     !python3 bandit_experiment.py --noise pareto  --optim_type tofu --samples 10000 --actions 10 --moment 1.2 --dimension 5 --seed $i \n",
    "#     !python bandit_experiment.py --noise pareto  --optim_type supbmm --samples 10000 --actions 10 --moment 1.2 --dimension 5 --seed $i &"
   ]
  },
  {
   "cell_type": "code",
   "execution_count": 2,
   "metadata": {},
   "outputs": [],
   "source": [
    "# for i in range(1,5):\n",
    "#     !python3 bandit_experiment.py --noise pareto  --optim_type proof --samples 10000 --actions 10 --moment 1.2 --dimension 20 --seed $i\n",
    "#     !python3 bandit_experiment.py --noise pareto  --optim_type supbtc --samples 10000 --actions 10 --moment 1.2 --dimension 20 --seed $i\n",
    "#     !python3 bandit_experiment.py --noise pareto  --optim_type supbmm --samples 10000 --actions 10 --moment 1.2 --dimension 20 --seed $i\n",
    "#     !python3 bandit_experiment.py --noise pareto  --optim_type menu --samples 10000 --actions 10 --moment 1.2 --dimension 20 --seed $i\n",
    "#     !python3 bandit_experiment.py --noise pareto  --optim_type tofu --samples 10000 --actions 10 --moment 1.2 --dimension 20 --seed $i"
   ]
  }
 ],
 "metadata": {
  "kernelspec": {
   "display_name": "Python 3 (ipykernel)",
   "language": "python",
   "name": "python3"
  },
  "language_info": {
   "codemirror_mode": {
    "name": "ipython",
    "version": 3
   },
   "file_extension": ".py",
   "mimetype": "text/x-python",
   "name": "python",
   "nbconvert_exporter": "python",
   "pygments_lexer": "ipython3",
   "version": "3.7.5"
  }
 },
 "nbformat": 4,
 "nbformat_minor": 4
}
