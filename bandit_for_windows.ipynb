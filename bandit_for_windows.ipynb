{
 "cells": [
  {
   "cell_type": "code",
   "execution_count": 2,
   "metadata": {},
   "outputs": [],
   "source": [
    "# for i in range(1,6):\n",
    "#     !python bandit_experiment.py --noise pareto  --optim_type proof --samples 10000 --actions 10 --moment 1.2 --dimension 5 --seed $i &\n",
    "# !python bandit_experiment.py --noise pareto  --optim_type proof --samples 10000 --actions 10 --moment 1.2 --dimension 5 --seed 5    \n",
    "# for i in range(1,6):\n",
    "#     !python3 bandit_experiment.py --noise pareto  --optim_type supbtc --samples 10000 --actions 10 --moment 1.2 --dimension 5 --seed $i\n",
    "#     !python3 bandit_experiment.py --noise pareto  --optim_type tofu --samples 10000 --actions 10 --moment 1.2 --dimension 5 --seed $i \n",
    "#     !python bandit_experiment.py --noise pareto  --optim_type supbmm --samples 10000 --actions 10 --moment 1.2 --dimension 5 --seed $i &"
   ]
  },
  {
   "cell_type": "code",
   "execution_count": 4,
   "metadata": {},
   "outputs": [
    {
     "name": "stdout",
     "output_type": "stream",
     "text": [
      "Data saved at bandit_results/pareto-p1.80-s1.00-dim5-size10000-action10-proof-seed1.npy\n",
      "Data saved at bandit_results/pareto-p1.80-s1.00-dim5-size10000-action10-supbtc-seed1.npy\n",
      "Data saved at bandit_results/pareto-p1.80-s1.00-dim5-size10000-action10-supbmm-seed1.npy\n",
      "Data saved at bandit_results/pareto-p1.80-s1.00-dim5-size10000-action10-menu-seed1.npy\n",
      "Data saved at bandit_results/pareto-p1.80-s1.00-dim5-size10000-action10-tofu-seed1.npy\n",
      "Data saved at bandit_results/pareto-p1.80-s1.00-dim5-size10000-action10-proof-seed2.npy\n",
      "Data saved at bandit_results/pareto-p1.80-s1.00-dim5-size10000-action10-supbtc-seed2.npy\n",
      "Data saved at bandit_results/pareto-p1.80-s1.00-dim5-size10000-action10-supbmm-seed2.npy\n",
      "Data saved at bandit_results/pareto-p1.80-s1.00-dim5-size10000-action10-menu-seed2.npy\n",
      "Data saved at bandit_results/pareto-p1.80-s1.00-dim5-size10000-action10-tofu-seed2.npy\n",
      "Data saved at bandit_results/pareto-p1.80-s1.00-dim5-size10000-action10-proof-seed3.npy\n",
      "Data saved at bandit_results/pareto-p1.80-s1.00-dim5-size10000-action10-supbtc-seed3.npy\n",
      "Data saved at bandit_results/pareto-p1.80-s1.00-dim5-size10000-action10-supbmm-seed3.npy\n",
      "Data saved at bandit_results/pareto-p1.80-s1.00-dim5-size10000-action10-menu-seed3.npy\n",
      "Data saved at bandit_results/pareto-p1.80-s1.00-dim5-size10000-action10-tofu-seed3.npy\n",
      "Data saved at bandit_results/pareto-p1.80-s1.00-dim5-size10000-action10-proof-seed4.npy\n",
      "Data saved at bandit_results/pareto-p1.80-s1.00-dim5-size10000-action10-supbtc-seed4.npy\n",
      "Data saved at bandit_results/pareto-p1.80-s1.00-dim5-size10000-action10-supbmm-seed4.npy\n",
      "Data saved at bandit_results/pareto-p1.80-s1.00-dim5-size10000-action10-menu-seed4.npy\n",
      "Data saved at bandit_results/pareto-p1.80-s1.00-dim5-size10000-action10-tofu-seed4.npy\n",
      "Data saved at bandit_results/pareto-p1.80-s1.00-dim5-size10000-action10-proof-seed5.npy\n",
      "Data saved at bandit_results/pareto-p1.80-s1.00-dim5-size10000-action10-supbtc-seed5.npy\n",
      "Data saved at bandit_results/pareto-p1.80-s1.00-dim5-size10000-action10-supbmm-seed5.npy\n",
      "Data saved at bandit_results/pareto-p1.80-s1.00-dim5-size10000-action10-menu-seed5.npy\n",
      "Data saved at bandit_results/pareto-p1.80-s1.00-dim5-size10000-action10-tofu-seed5.npy\n"
     ]
    }
   ],
   "source": [
    "for i in range(1,6):\n",
    "    !python bandit_experiment.py --noise pareto  --optim_type proof --samples 10000 --actions 10 --moment 1.8 --dimension 5 --seed $i\n",
    "    !python bandit_experiment.py --noise pareto  --optim_type supbtc --samples 10000 --actions 10 --moment 1.8 --dimension 5 --seed $i\n",
    "    !python bandit_experiment.py --noise pareto  --optim_type supbmm --samples 10000 --actions 10 --moment 1.8 --dimension 5 --seed $i\n",
    "    !python bandit_experiment.py --noise pareto  --optim_type menu --samples 10000 --actions 10 --moment 1.8 --dimension 5 --seed $i\n",
    "    !python bandit_experiment.py --noise pareto  --optim_type tofu --samples 10000 --actions 10 --moment 1.8 --dimension 5 --seed $i"
   ]
  }
 ],
 "metadata": {
  "kernelspec": {
   "display_name": "Python 3",
   "language": "python",
   "name": "python3"
  },
  "language_info": {
   "codemirror_mode": {
    "name": "ipython",
    "version": 3
   },
   "file_extension": ".py",
   "mimetype": "text/x-python",
   "name": "python",
   "nbconvert_exporter": "python",
   "pygments_lexer": "ipython3",
   "version": "3.9.2"
  }
 },
 "nbformat": 4,
 "nbformat_minor": 4
}
