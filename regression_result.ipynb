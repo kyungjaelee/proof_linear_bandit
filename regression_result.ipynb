{
 "cells": [
  {
   "cell_type": "code",
   "execution_count": 6,
   "id": "f7921caf",
   "metadata": {},
   "outputs": [],
   "source": [
    "import numpy as np\n",
    "import matplotlib.pyplot as plt\n",
    "import matplotlib as mpl\n",
    "%matplotlib inline"
   ]
  },
  {
   "cell_type": "code",
   "execution_count": 7,
   "id": "82af6695",
   "metadata": {},
   "outputs": [],
   "source": [
    "optim_types = ['mom', 'reg', 'catoni', 'trunc', 'pro']\n",
    "# optim_types = ['catoni', 'pro', 'trunc_lin', 'trunc', 'mom', 'reg']\n",
    "# optim_types = ['catoni', 'pro', 'reg', 'trunc_lin', 'trunc']\n",
    "# optim_types = ['mom', ''] \n",
    "# noise_type = 'weibull'\n",
    "noise_type = 'pareto'\n",
    "scale = 1.0\n",
    "p = 1.8\n",
    "samples = 10000\n",
    "dim = 20\n",
    "n_seeds = 5\n",
    "\n",
    "error_list = [[] for _ in range(len(optim_types))]\n",
    "time_list = [[] for _ in range(len(optim_types))]\n",
    "for optim_idx, optim_type in enumerate(optim_types):\n",
    "#     for seed in [1,2,3,4,6,7,8,9,10]:\n",
    "    for seed in range(1,n_seeds+1):\n",
    "        filename = 'estimation_results/{:}-p{:.2f}-s{:.2f}-dim{:d}-size{:d}-{:}-seed{:d}.npy'.format(noise_type,p,scale,dim,samples,optim_type,seed)\n",
    "        with open(filename,'rb') as f:\n",
    "            data_per_seed=np.load(f, allow_pickle=True)\n",
    "            error_list[optim_idx].append(data_per_seed['error_list'])\n",
    "#             print(data_per_seed['optim_params'][best_opt_list[optim_idx]])\n",
    "#             time_list[optim_idx].append(data_per_seed['time_list'])"
   ]
  },
  {
   "cell_type": "code",
   "execution_count": 9,
   "id": "19ddd949",
   "metadata": {
    "scrolled": false
   },
   "outputs": [
    {
     "name": "stdout",
     "output_type": "stream",
     "text": [
      "MoM: 6.56(+-0.13)\n",
      "Ridge: 1.04(+-0.53)\n",
      "Catoni's M: 1.14(+-0.27)\n",
      "Trunc: 0.60(+-0.06)\n",
      "PRo: 0.71(+-0.19)\n"
     ]
    },
    {
     "data": {
      "image/png": "[encoded data removed]",
      "text/plain": [
       "<Figure size 432x288 with 1 Axes>"
      ]
     },
     "metadata": {
      "needs_background": "light"
     },
     "output_type": "display_data"
    }
   ],
   "source": [
    "x_list = range(1000,11000, 1000)\n",
    "best_opt_list = []\n",
    "for optim_idx, optim_type in enumerate(optim_types):\n",
    "    algo_label = optim_type\n",
    "    mean_list = np.mean(error_list[optim_idx],axis=0)\n",
    "#     mean_time_list = np.mean(time_list[optim_idx],axis=0)\n",
    "#     print(optim_type)\n",
    "#     print(mean_list.shape)\n",
    "    std_list = np.std(error_list[optim_idx],axis=0)\n",
    "#     std_time_list = np.std(time_list[optim_idx],axis=0)\n",
    "    a = 0.5\n",
    "    if 'catoni' in optim_types[optim_idx]:\n",
    "        algo_label = 'Catoni\\'s M'\n",
    "        m='v'\n",
    "    elif 'reg' in optim_types[optim_idx]:\n",
    "        algo_label = 'Ridge'\n",
    "        m='s'\n",
    "    elif 'trunc_lin' in optim_types[optim_idx]:\n",
    "        algo_label = 'Truncated Linear'\n",
    "        m='>'\n",
    "    elif 'trunc' in optim_types[optim_idx]:\n",
    "        algo_label = 'Trunc'\n",
    "        m='^'\n",
    "    elif 'pro' in optim_types[optim_idx]:\n",
    "        algo_label = 'PRo'\n",
    "        m='o'\n",
    "    elif 'mom' in optim_types[optim_idx]:\n",
    "        algo_label = 'MoM'\n",
    "        m='<'\n",
    "#     elif 'RobustUCB-Truncated-Mean' in algos_name[algo_type_idx]:\n",
    "#         algo_label = 'RobustUCB'\n",
    "#         m='<'\n",
    "#     elif 'DSEE' in algos_name[algo_type_idx]:\n",
    "#         algo_label = 'DSEE'\n",
    "#         m='>'\n",
    "#     elif 'GSR' in algos_name[algo_type_idx]:\n",
    "#         algo_label = 'GSR'\n",
    "#         m='>'\n",
    "        \n",
    "    best_opt_idx = np.argmin(mean_list[:,-1])\n",
    "    best_opt_list.append(best_opt_idx)\n",
    "    init_idx = 0\n",
    "    plt.fill_between(x_list[init_idx:],mean_list[best_opt_idx][init_idx:]-a*std_list[best_opt_idx][init_idx:],mean_list[best_opt_idx][init_idx:]+a*std_list[best_opt_idx][init_idx:],alpha=0.13)\n",
    "    plt.plot(x_list[init_idx:],mean_list[best_opt_idx][init_idx:],label=algo_label, marker=m, ms=11, markevery=1)\n",
    "    print(\"{:}: {:.2f}(+-{:.2f})\".format(algo_label,mean_list[best_opt_idx][-1],a*std_list[best_opt_idx][-1]))\n",
    "#     print(\"{:}: {:.2f}(+-{:.2f}), {:.5f}(+-{:.5f})\".format(algo_label,mean_list[best_opt_idx][-1],a*std_list[best_opt_idx][-1],mean_time_list[best_opt_idx][-1]*1000.,std_time_list[best_opt_idx][-1]*1000.))\n",
    "    \n",
    "plt.ylim([0., 12.])\n",
    "plt.xlim([np.min(x_list),np.max(x_list)])\n",
    "plt.xticks(fontsize=12)\n",
    "plt.yticks(fontsize=12)\n",
    "plt.xlabel(\" \",fontsize=25)\n",
    "plt.ylabel(\" \",fontsize=25)\n",
    "plt.xlabel(\"Number of Samples\",fontsize=25)\n",
    "plt.ylabel(\"$\\ell1$ Risk\",fontsize=25)\n",
    "# plt.legend(prop={'size' : 15})\n",
    "plt.show()"
   ]
  },
  {
   "cell_type": "code",
   "execution_count": 4,
   "id": "d3be5c6d",
   "metadata": {},
   "outputs": [],
   "source": [
    "optim_types = ['catoni', 'mom', 'pro', 'reg', 'trunc_lin', 'trunc']\n",
    "# optim_types = ['catoni', 'pro', 'reg', 'trunc_lin', 'trunc']\n",
    "# optim_types = ['mom', '']\n",
    "# noise_type = 'weibull'\n",
    "n = 10000\n",
    "n_seeds = 5\n",
    "\n",
    "error_list = [[] for _ in range(len(optim_types))]\n",
    "time_list = [[] for _ in range(len(optim_types))]\n",
    "for optim_idx, optim_type in enumerate(optim_types):\n",
    "#     for seed in [1,2,3,4,6,7,8,9,10]:\n",
    "    for seed in range(1,n_seeds+1):\n",
    "        filename = 'estimation_movielens_results/movielens-size{:d}-{:}-seed{:d}.npy'.format(n,optim_type,seed)\n",
    "        with open(filename,'rb') as f:\n",
    "            data_per_seed=np.load(f)\n",
    "            error_list[optim_idx].append(data_per_seed['error_list'])\n",
    "            time_list[optim_idx].append(data_per_seed['time_list'])"
   ]
  },
  {
   "cell_type": "code",
   "execution_count": 5,
   "id": "76fdf9c0",
   "metadata": {},
   "outputs": [
    {
     "name": "stdout",
     "output_type": "stream",
     "text": [
      "Catoni's M L1 Loss: 0.8963512098111306 0.006969704603252122\n",
      "Catoni's M Time: 132.24322690963746\n",
      "MoM L1 Loss: 1.0824327705236534 0.01770732803050372\n",
      "MoM Time: 1.6637601852416992\n",
      "PRo L1 Loss: 0.9105665647239988 0.0043953576913063385\n",
      "PRo Time: 1.928016996383667\n",
      "Ridge L1 Loss: 0.921772457980245 0.0029208297858197996\n",
      "Ridge Time: 0.04999380111694336\n",
      "Truncated Linear L1 Loss: 0.921772457973759 0.002920829778794488\n",
      "Truncated Linear Time: 2.5640031814575197\n",
      "Trunc L1 Loss: 0.9217724579760853 0.0029208297920633197\n",
      "Trunc Time: 4.881475114822388\n"
     ]
    }
   ],
   "source": [
    "x_list = range(1,10+1)\n",
    "\n",
    "for optim_idx, optim_type in enumerate(optim_types):\n",
    "    algo_label = optim_type\n",
    "    mean_list = np.mean(error_list[optim_idx],axis=0)\n",
    "    mean_time_list = np.mean(time_list[optim_idx],axis=0)\n",
    "#     print(optim_type)\n",
    "#     print(mean_list.shape)\n",
    "    std_list = np.std(error_list[optim_idx],axis=0)\n",
    "    a = 0.25\n",
    "    if 'catoni' in optim_types[optim_idx]:\n",
    "        algo_label = 'Catoni\\'s M'\n",
    "        m='v'\n",
    "    elif 'reg' in optim_types[optim_idx]:\n",
    "        algo_label = 'Ridge'\n",
    "        m='s'\n",
    "    elif 'trunc_lin' in optim_types[optim_idx]:\n",
    "        algo_label = 'Truncated Linear'\n",
    "        m='>'\n",
    "    elif 'trunc' in optim_types[optim_idx]:\n",
    "        algo_label = 'Trunc'\n",
    "        m='^'\n",
    "    elif 'pro' in optim_types[optim_idx]:\n",
    "        algo_label = 'PRo'\n",
    "        m='o'\n",
    "    elif 'mom' in optim_types[optim_idx]:\n",
    "        algo_label = 'MoM'\n",
    "        m='<'\n",
    "#     elif 'RobustUCB-Truncated-Mean' in algos_name[algo_type_idx]:\n",
    "#         algo_label = 'RobustUCB'\n",
    "#         m='<'\n",
    "#     elif 'DSEE' in algos_name[algo_type_idx]:\n",
    "#         algo_label = 'DSEE'\n",
    "#         m='>'\n",
    "#     elif 'GSR' in algos_name[algo_type_idx]:\n",
    "#         algo_label = 'GSR'\n",
    "#         m='>'\n",
    "        \n",
    "    best_opt_idx = np.argmin(mean_list)\n",
    "    print(algo_label,\"L1 Loss:\",mean_list[best_opt_idx][0], std_list[best_opt_idx][0])\n",
    "    print(algo_label,\"Time:\",np.mean(mean_time_list[best_opt_idx]))"
   ]
  }
 ],
 "metadata": {
  "kernelspec": {
   "display_name": "Python 3 (ipykernel)",
   "language": "python",
   "name": "python3"
  },
  "language_info": {
   "codemirror_mode": {
    "name": "ipython",
    "version": 3
   },
   "file_extension": ".py",
   "mimetype": "text/x-python",
   "name": "python",
   "nbconvert_exporter": "python",
   "pygments_lexer": "ipython3",
   "version": "3.7.5"
  }
 },
 "nbformat": 4,
 "nbformat_minor": 5
}
