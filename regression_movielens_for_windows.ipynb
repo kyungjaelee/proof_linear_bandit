{
 "cells": [
  {
   "cell_type": "code",
   "execution_count": 1,
   "metadata": {},
   "outputs": [],
   "source": [
    "# for i in range(1,6):\n",
    "#     !python regression_experiment_movielens.py --optim_type catoni --samples 10000 --seed $i"
   ]
  },
  {
   "cell_type": "code",
   "execution_count": 2,
   "metadata": {},
   "outputs": [],
   "source": [
    "# for i in range(1,6):\n",
    "#     !python regression_experiment_movielens.py --optim_type mom --samples 10000 --seed $i"
   ]
  },
  {
   "cell_type": "code",
   "execution_count": 4,
   "metadata": {},
   "outputs": [
    {
     "name": "stdout",
     "output_type": "stream",
     "text": [
      "Data saved at estimation_movielens_results/movielens-size10000-pro-seed1.npy\n",
      "Data saved at estimation_movielens_results/movielens-size10000-pro-seed2.npy\n",
      "Data saved at estimation_movielens_results/movielens-size10000-pro-seed3.npy\n",
      "Data saved at estimation_movielens_results/movielens-size10000-pro-seed4.npy\n",
      "Data saved at estimation_movielens_results/movielens-size10000-pro-seed5.npy\n"
     ]
    }
   ],
   "source": [
    "for i in range(1,6):\n",
    "    !python regression_experiment_movielens.py --optim_type pro --samples 10000 --seed $i"
   ]
  },
  {
   "cell_type": "code",
   "execution_count": 1,
   "metadata": {},
   "outputs": [],
   "source": [
    "# for i in range(1,6):\n",
    "#     !python regression_experiment_movielens.py --optim_type reg --samples 10000 --seed $i"
   ]
  },
  {
   "cell_type": "code",
   "execution_count": 2,
   "metadata": {},
   "outputs": [],
   "source": [
    "# for i in range(1,6):\n",
    "#     !python regression_experiment_movielens.py --optim_type trunc_lin --samples 10000 --seed $i"
   ]
  },
  {
   "cell_type": "code",
   "execution_count": 3,
   "metadata": {},
   "outputs": [],
   "source": [
    "# for i in range(1,6):\n",
    "#     !python regression_experiment_movielens.py --optim_type trunc --samples 10000 --seed $i"
   ]
  }
 ],
 "metadata": {
  "kernelspec": {
   "display_name": "Python 3",
   "language": "python",
   "name": "python3"
  },
  "language_info": {
   "codemirror_mode": {
    "name": "ipython",
    "version": 3
   },
   "file_extension": ".py",
   "mimetype": "text/x-python",
   "name": "python",
   "nbconvert_exporter": "python",
   "pygments_lexer": "ipython3",
   "version": "3.9.2"
  }
 },
 "nbformat": 4,
 "nbformat_minor": 4
}
