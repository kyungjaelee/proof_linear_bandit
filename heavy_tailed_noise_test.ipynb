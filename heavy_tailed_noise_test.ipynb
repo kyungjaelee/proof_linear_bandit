{
 "cells": [
  {
   "cell_type": "code",
   "execution_count": 1,
   "id": "c8cc585a",
   "metadata": {},
   "outputs": [],
   "source": [
    "from heavy_tail_observations import BothSideWeibullNoise, BothSideParetoNoise, BothSideFrechetNoise\n",
    "\n",
    "from matplotlib import pyplot as plt\n",
    "%matplotlib inline"
   ]
  },
  {
   "cell_type": "markdown",
   "id": "8550ab48",
   "metadata": {},
   "source": [
    "# Test samples and PDF"
   ]
  },
  {
   "cell_type": "code",
   "execution_count": 2,
   "id": "a8a474fa",
   "metadata": {},
   "outputs": [
    {
     "data": {
      "image/png": "[encoded data removed]",
      "text/plain": [
       "<Figure size 432x288 with 1 Axes>"
      ]
     },
     "metadata": {
      "needs_background": "light"
     },
     "output_type": "display_data"
    }
   ],
   "source": [
    "scale=5.\n",
    "mean=10.\n",
    "p=5.\n",
    "samples = 10000\n",
    "noise_type = 'frechet'\n",
    "    \n",
    "if noise_type == 'weibull':\n",
    "    weibull_noise = BothSideWeibullNoise(alpha=p+0.1,scale=scale,mean=mean,p=p)\n",
    "    get_observation = lambda : weibull_noise.sample()\n",
    "elif noise_type == 'pareto':\n",
    "    pareto_noise = BothSideParetoNoise(alpha=p+0.1,scale=scale,mean=mean,p=p)\n",
    "    get_observation = lambda : pareto_noise.sample()\n",
    "elif noise_type == 'frechet':\n",
    "    frechet_noise = BothSideFrechetNoise(alpha=p+0.1,scale=scale,mean=mean,p=p)\n",
    "    get_observation = lambda : frechet_noise.sample()\n",
    "    \n",
    "plt.hist([get_observation() for _ in range(samples)],density=True)\n",
    "plt.show()"
   ]
  }
 ],
 "metadata": {
  "kernelspec": {
   "display_name": "Python 3 (ipykernel)",
   "language": "python",
   "name": "python3"
  },
  "language_info": {
   "codemirror_mode": {
    "name": "ipython",
    "version": 3
   },
   "file_extension": ".py",
   "mimetype": "text/x-python",
   "name": "python",
   "nbconvert_exporter": "python",
   "pygments_lexer": "ipython3",
   "version": "3.7.5"
  }
 },
 "nbformat": 4,
 "nbformat_minor": 5
}
